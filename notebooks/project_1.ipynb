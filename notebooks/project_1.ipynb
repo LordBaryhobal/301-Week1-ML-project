{
 "cells": [
  {
   "cell_type": "markdown",
   "id": "64e07add",
   "metadata": {},
   "source": [
    "# Project 1: Housing prices"
   ]
  },
  {
   "cell_type": "code",
   "execution_count": null,
   "id": "2e829139",
   "metadata": {},
   "outputs": [],
   "source": []
  }
 ],
 "metadata": {
  "kernelspec": {
   "display_name": ".venv",
   "language": "python",
   "name": "python3"
  },
  "language_info": {
   "name": "python",
   "version": "3.13.1"
  }
 },
 "nbformat": 4,
 "nbformat_minor": 5
}
